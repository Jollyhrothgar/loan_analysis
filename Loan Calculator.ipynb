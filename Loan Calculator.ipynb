{
 "cells": [
  {
   "cell_type": "markdown",
   "metadata": {},
   "source": [
    "# Student Loan Interest Calculator + Visualization\n",
    "Runs various studies on loans to determine the optimal means for paying off the loan.\n",
    "\n",
    "Example Loans:\n",
    "- Loan Manager: FedLoanServicing\n",
    "- Loan 1: 6507.64, 6.410% APR\n",
    "- Loan 2: 21263.06, 5.410% APR\n",
    "- Loan 3: 6994.65, 7.900% APR\n",
    "- Loan 4: 23562.73, 6.800% APR\n",
    "\n",
    "The following events will trigger interest recapitalization:\n",
    "1. When the loan enters repayment.\n",
    "2. When a deferment ends.\n",
    "3. When forbearance ends.\n",
    "4. When the loan defaults.\n",
    "5. A change in repayment plan.\n",
    "6. Loan consolidation. \n",
    "\n",
    "Main source of information: https://studentaid.ed.gov\n",
    "\n",
    "Definition of Terms\n",
    "1. <b>Enters repayment</b>: you leave school and now must pay your loans back.\n",
    "2. <b>Deferment Ends</b>: A deferment occurs when you stop making payments on your student loans. It has special rules about when you have to pay the interest on your loans during a deferment.\n",
    " - During a deferment, you generally don't have to pay for interest if you have a subsidized direct, federal stafford, direct consolodated, or FFEL consolidated loans. This is because whoever subsidizes your loan is paying the interest as it occurs.\n",
    " - You <b>must</b> pay interest on all subsidized loans.\n",
    " - Deferment is basically the default status of a student loan while you are in school, and generally, if you don't pay the accrued interest on unsubsidized loans, this unpaid interest gets added to your principal loan balance, which then increases the total interest payment, because now you effectively have a larger loan.\n",
    "3. <b>Forbearance Ends</b>:  \n",
    " - Forbearance is essentially the same thing as a deferrment in that you tell your loan servicer that you cannot make payments against your principal balance. The difference is that you are always responsible for paying the interest during a forbearance. After forbearance ends, unpaid interest is recapitalized.\n",
    " - Forbearance and Deferment both free you from making loan payments against your principal, but you're just burning money as interest.\n",
    "4. <b>Default</b>: Student loan default when you fail to make loan payments as scheduled.\n",
    " - When you default on your loan, legal action can be taken to force you, or the person who cosigned your loan (a guarantor), or both to pay the balance of the loan. This can happen in a broad variety of very unpleasant ways, such as wage garnishing, repossession of property, etc.\n",
    " - Usually, prior to going into default, you enter a period of <b>delinquency</b> which means you haven't made the loan payments you agreed to when you signed your promisary note upon applying for the loan in the first place. Being delinquent has bad consequences too, it effects your credit score, and can prevent you from entering into financial arrangements with entities, such as getting other loans, getting approval to rent an apartment, getting homeowners' insurance, or even signing up for utilities.\n",
    " - If you pay your loan monthly, default occurs after missing a payment for 270 days.\n",
    " - There is no guaranteed way to exit default, you have to contact your loan servicer or collections agency.\n",
    " - <b> There are huge consequences to going into default. Its really bad. </b>\n",
    " \t- You must pay the entire balance of your loans immediately (obviously impossible), you lose elgibility for deferment or forbearance, you lose elgiability for all federal student loans, your loan may go to collections, your credit score tanks, your federal tax return may be given to the debt collectors, your total debt will balloon with fees and unpaid interest, your wages can be garnished, you may be sued and blocked from purchasing or selling certain assets (such as a house), federal employees may sacrifice 15% of pay, and you must spend years to re-establish your credit rating.\n",
    "  \n",
    "  "
   ]
  },
  {
   "cell_type": "markdown",
   "metadata": {},
   "source": [
    "# Analysis\n",
    "Loans are tracked based on inital and current state. This allows us to essentially simulate different payment strategies and how this affects stuff like interest paid, payoff time, etc. Another interesting approach might be to vectorize stuff to allow for more powerful solver methods."
   ]
  },
  {
   "cell_type": "code",
   "execution_count": 3,
   "metadata": {
    "collapsed": false
   },
   "outputs": [
    {
     "ename": "ModuleNotFoundError",
     "evalue": "No module named 'loan_solver.LoanSolver'",
     "output_type": "error",
     "traceback": [
      "\u001b[0;31m---------------------------------------------------------------------------\u001b[0m",
      "\u001b[0;31mModuleNotFoundError\u001b[0m                       Traceback (most recent call last)",
      "\u001b[0;32m<ipython-input-3-1180d8ef3e2b>\u001b[0m in \u001b[0;36m<module>\u001b[0;34m()\u001b[0m\n\u001b[0;32m----> 1\u001b[0;31m \u001b[0;32mimport\u001b[0m \u001b[0mloan_solver\u001b[0m\u001b[0;34m.\u001b[0m\u001b[0mLoanSolver\u001b[0m \u001b[0;32mas\u001b[0m \u001b[0mLoanSolver\u001b[0m\u001b[0;34m\u001b[0m\u001b[0m\n\u001b[0m\u001b[1;32m      2\u001b[0m \u001b[0;34m\u001b[0m\u001b[0m\n\u001b[1;32m      3\u001b[0m loans = [\n\u001b[1;32m      4\u001b[0m     {\n\u001b[1;32m      5\u001b[0m         \u001b[0;34m'loan_name'\u001b[0m\u001b[0;34m:\u001b[0m\u001b[0;34m'loan_641'\u001b[0m\u001b[0;34m,\u001b[0m\u001b[0;34m\u001b[0m\u001b[0m\n",
      "\u001b[0;31mModuleNotFoundError\u001b[0m: No module named 'loan_solver.LoanSolver'"
     ]
    }
   ],
   "source": [
    "# TODO - fix importing the loan_solver package\n",
    "loans = [\n",
    "    {\n",
    "        'loan_name':'loan_641',\n",
    "        'loan_type':'StudentLoan',\n",
    "        'principal_balance':6507.64,\n",
    "        'interest_rate':0.0641\n",
    "    },\n",
    "    {\n",
    "        'loan_name':'loan_541',\n",
    "        'loan_type':'StudentLoan',\n",
    "        'principal_balance':21263.06,\n",
    "        'interest_rate':0.0541,\n",
    "    },\n",
    "    {\n",
    "        'loan_name':'loan_790',\n",
    "        'loan_type':'StudentLoan',\n",
    "        'principal_balance':6994.65,\n",
    "        'interest_rate':0.068,\n",
    "    },\n",
    "    {\n",
    "        'loan_name':'loan_680',\n",
    "        'loan_type':'StudentLoan',\n",
    "        'principal_balance':23562.73,\n",
    "        'interest_rate':0.068,\n",
    "    },\n",
    "    \n",
    "]\n",
    "\n",
    "def always_pay_highest_balance(payment, time_unit='month', loans=loans):\n",
    "    print(\"Calculating Pay According to Balance - Payment is split according to balance distribution\")\n",
    "    solver = LoanSolver()\n",
    "    for loan in loans:\n",
    "        solver.add_loan(**loan)\n",
    "    done = False\n",
    "    time = 0\n",
    "    # Pay According To Loan Amount\n",
    "    while not done:\n",
    "        solver.add_interest(1,time_unit)\n",
    "        time += 1\n",
    "        distribution = solver.get_balance_distribution()\n",
    "        # TODO - fix how remainder is applied, if any (returns from pay_loan)\n",
    "        for loan_name in distribution:\n",
    "            solver.pay_loan(loan_name, payment*distribution[loan_name])\n",
    "        if solver.debt_free():\n",
    "            done = True\n",
    "            print(\"\\tTotal Paid {}, Principal {}, Total Interest {}, in {} {}s\".format(solver.total_paid, solver.get_initial_principal(), solver.total_paid - solver.get_initial_debt(), time, time_unit))\n",
    "     \n",
    "\n",
    "def always_pay_highest_interest(payment, time_unit='month', loans=loans):\n",
    "    # Pay According to Interest Amount\n",
    "    print(\"Calculating Pay According to Interest - Payment is split according to the interest distribution\")\n",
    "    solver = LoanSolver()\n",
    "    for loan in loans:\n",
    "        solver.add_loan(**loan)\n",
    "    time = 0\n",
    "    done = False\n",
    "    while not done:\n",
    "        solver.add_interest(1,time_unit)\n",
    "        distribution = solver.get_interest_distribution()\n",
    "        time += 1\n",
    "        for loan_name in distribution:\n",
    "            solver.pay_loan(loan_name, payment*distribution[loan_name])\n",
    "        if solver.debt_free():\n",
    "            done = True\n",
    "            print(\"\\tTotal Paid {}, Principal {}, Total Interest {}, in {} {}s \".format(solver.total_paid, solver.get_initial_principal(), solver.total_paid - solver.get_initial_debt(), time, time_unit))\n",
    "\n",
    "def pay_snowball(paymentt, time_unit='month', loans=loans):\n",
    "    # Snowball\n",
    "    print(\"Calculating Snowball Method\")\n",
    "    solver = LoanSolver()\n",
    "    for loan in loans:\n",
    "        solver.add_loan(**loan)\n",
    "    time = 0\n",
    "    done = False\n",
    "    loan_name = solver.smallest_principal()\n",
    "    while not done:\n",
    "        solver.add_interest(1,time_unit)\n",
    "        payment = 1500\n",
    "        time += 1\n",
    "        solver.pay_loan(loan_name, payment)\n",
    "        if loan_name not in solver.loans:\n",
    "            # a loan is paid off\n",
    "            loan_name = solver.smallest_principal()\n",
    "            if loan_name is None:\n",
    "                done = True\n",
    "                print(\"\\tTotal Paid {}, Principal {}, Total Interest {}, in {} {}s \".format(solver.total_paid, solver.get_initial_principal(), solver.total_paid - solver.get_initial_debt(), time, time_unit))\n",
    "            \n",
    "        \n",
    "def pay_avalanche(payment, time_unit='month', loans=loans):\n",
    "    # Avalanche\n",
    "    # TODO - pick the largest loan and pay off entirely, not continuously the largest balance\n",
    "    print(\"Calculating Avalanche Method\")\n",
    "    solver = LoanSolver()\n",
    "    for loan in loans:\n",
    "        solver.add_loan(**loan)\n",
    "    time = 0\n",
    "    done = False\n",
    "    loan_name = solver.largest_principal()\n",
    "    while not done:\n",
    "        solver.add_interest(1,time_unit)\n",
    "        time += 1\n",
    "        solver.pay_loan(loan_name, payment)\n",
    "        if loan_name not in solver.loans:\n",
    "            # a loan is paid off\n",
    "            loan_name = solver.largest_principal()\n",
    "            if loan_name is None:\n",
    "                done = True\n",
    "                print(\"\\tTotal Paid {}, Principal {}, Total Interest {}, in {} {}s \".format(solver.total_paid, solver.get_initial_principal(), solver.total_paid - solver.get_initial_debt(), time, time_unit))"
   ]
  },
  {
   "cell_type": "code",
   "execution_count": null,
   "metadata": {
    "collapsed": false
   },
   "outputs": [],
   "source": [
    "payment = 3000\n",
    "always_pay_highest_balance(payment)\n",
    "always_pay_highest_interest(payment)\n",
    "pay_snowball(payment)\n",
    "pay_avalanche(payment)"
   ]
  },
  {
   "cell_type": "code",
   "execution_count": null,
   "metadata": {
    "collapsed": true
   },
   "outputs": [],
   "source": []
  }
 ],
 "metadata": {
  "kernelspec": {
   "display_name": "Python 3",
   "language": "python",
   "name": "python3"
  },
  "language_info": {
   "codemirror_mode": {
    "name": "ipython",
    "version": 3
   },
   "file_extension": ".py",
   "mimetype": "text/x-python",
   "name": "python",
   "nbconvert_exporter": "python",
   "pygments_lexer": "ipython3",
   "version": "3.6.0"
  },
  "latex_envs": {
   "LaTeX_envs_menu_present": true,
   "autocomplete": true,
   "bibliofile": "biblio.bib",
   "cite_by": "apalike",
   "current_citInitial": 1,
   "eqLabelWithNumbers": true,
   "eqNumInitial": 1,
   "hotkeys": {
    "equation": "Ctrl-E",
    "itemize": "Ctrl-I"
   },
   "labels_anchors": false,
   "latex_user_defs": false,
   "report_style_numbering": false,
   "user_envs_cfg": false
  },
  "toc": {
   "colors": {
    "hover_highlight": "#DAA520",
    "running_highlight": "#FF0000",
    "selected_highlight": "#FFD700"
   },
   "moveMenuLeft": true,
   "nav_menu": {
    "height": "49px",
    "width": "253px"
   },
   "navigate_menu": true,
   "number_sections": true,
   "sideBar": true,
   "threshold": 4,
   "toc_cell": false,
   "toc_section_display": "block",
   "toc_window_display": true,
   "widenNotebook": false
  }
 },
 "nbformat": 4,
 "nbformat_minor": 2
}
